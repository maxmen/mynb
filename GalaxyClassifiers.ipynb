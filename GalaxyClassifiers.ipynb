{
 "cells": [
  {
   "cell_type": "markdown",
   "metadata": {},
   "source": [
    "# Mapping dark matter in galaxy clusters\n",
    "\n",
    "Galaxy clusters are the largest cosmic structures in the sky. \n",
    "\n",
    "* They contain millions of galaxies, and each galaxy contains billions of stars; \n",
    "* They are big reservoirs of dark matter. Dark matter accounts for 90% of the total mass; \n",
    "* Being incredibly massive, they are very strong gravitational lenses. Gravitational lensing is the effect of matter curving space time. \n",
    "* When the light from  distant galaxies passes near a massive galaxy cluster, it is deflected and the source appears distorted, like when we observe something through a piece of glass. \n",
    "\n",
    "<img src='./Gravitational-lensing-galaxyApril12_2010-1024x768.jpg' style='width: 50%'/>\n",
    "\n",
    "** By measuring the distortions of the images of the distant galaxies, we can invert the process of lensing and determine how the matter responsible for this effect is distributed. As said, the vast majority of this matter is dark.** \n",
    "\n",
    "<img src='./f7385a_43031cf41afe4858a462cdb2b2b0fdc1.png' style='width: 50%'/>\n",
    "\n",
    "# A major obstacle: finding the lensed galaxies\n",
    "\n",
    "When we look at the sky around a galaxy cluster we see galaxies belonging to two classes:\n",
    "\n",
    "* **Lensed galaxies**: galaxies in the cluster background are galaxies lensed by the foreground mass distribution of the cluster. ** These are the galaxies we need for our analysis!**\n",
    "* **Unlensed galaxies**: galaxies within the cluster or in its foreground are not lensed by the cluster. **These galaxies are very dangerous for us, we need to get rid of them, otherwise our dark matter measurements will be biased-low!**\n",
    "\n",
    "# A classification problem\n",
    "\n",
    "## Features\n",
    "\n",
    "In the field-of-view of the telescope, we have millions of unlensed and lensed galaxies. Our job is to separate these two classes of sources. This is a classification problem which can be solved using a machine learning approach.\n",
    "\n",
    "What are the features we might use? \n",
    "* **galaxy \"colors\"**: galaxies residing in clusters are typically **red** in color. This is because, they contain primarily old stars, which are red. Conversely, galaxies outside the clusters are **blue**, because they contain young stars. In particular, the galaxies far away from us are young galaxies: remember that their light takes billions of years to reach us. Thus, we see them as they were in a younger universe. Unfortunately, because of the expansion of the universe, galaxies are moving away from us at a speed which is roughly proportional to their distance. Due to the Doppler effect, they are reddened. Thus the classes of lensed and unlensed sources are partially overlapped.\n",
    "\n",
    "* **galaxy luminosities**: the nearest, unlensed, galaxies will generally appear brighter than the most distant, lensed, ones.\n",
    "\n",
    "* **galaxy distance from the center of the cluster**: of course galaxies in clusters are \"clustered\"!\n",
    "\n",
    "\n",
    "## Training, testing, validation\n",
    "\n",
    "Although we are typically working with millions of galaxies, in this demo I am using a small catalog containing ~2500 entries. Here is how the catalog looks like:\n",
    "\n"
   ]
  },
  {
   "cell_type": "code",
   "execution_count": 6,
   "metadata": {
    "scrolled": true
   },
   "outputs": [],
   "source": [
    "# import the relevant packages\n",
    "import numpy as np\n",
    "import pandas as pd\n",
    "import seaborn as sns\n",
    "\n",
    "# read the matched catalog into a pandas dataframe and rename some of the columns. \n",
    "# prepare the catalog for the following analysis\n",
    "df=pd.read_csv('matched.cat')\n",
    "df.dropna(axis=1,inplace=True)\n",
    "df.columns.values[0:7]=['name','ra','dec','z',' z QF','Reference','Kron R']\n"
   ]
  },
  {
   "cell_type": "markdown",
   "metadata": {},
   "source": [
    "For these galaxies, we have used spectroscopy to determine the distance from us. Thus each entry can be **labeled**. This is the **training set** for the supervised learning classification task. The galaxies are equally distributed among the two classes (lensed vs unlensed).\n",
    "\n",
    "## Feature extraction and catalog cleaning\n",
    "\n",
    "The catalog does not contain colors yet. Rather, it contains measurements of the brightness of each galaxy observed with a telescope with 5 different filters (B,V,R,I,Z). **Colors in astronomy are differences between brightnesses in different filters.** With these 5 brightnesses, we can generate 10 independent colors. These are the features to be used.   \n",
    "\n",
    "Columns RA and DEC contain the coordinates of the galaxies in the sky. These coordinates can be used to define the **distance from the cluster center**, whose position is also known.\n",
    "\n",
    "The column \"Kron R\" contains the brightness of the galaxy, which is the last feature we need. \n",
    "\n",
    "We can get rid of many of the columns in the catalog."
   ]
  },
  {
   "cell_type": "code",
   "execution_count": 7,
   "metadata": {},
   "outputs": [],
   "source": [
    "def createFeatures(df,columns):\n",
    "    # create new columns in the dataframe containing different colors which can be generated\n",
    "    # using the available bands\n",
    "    import numpy as np\n",
    "\n",
    "    colors=[]\n",
    "    for i in xrange(columns.size-1): \n",
    "        for j in xrange(i+1,columns.size):\n",
    "            df[columns[i]+''+columns[j]] = df[columns[i]]-df[columns[j]]\n",
    "            colors.append(columns[i]+''+columns[j])\n",
    "    \n",
    "    return np.array(colors)\n",
    "\n",
    "def addDistanceFromCenter(df,center):\n",
    "    # compute distances  of all galaxies from the cluster center\n",
    "    ra=df['ra'].values\n",
    "    dec=df['dec'].values\n",
    "    x=-(ra-center[0])*(np.cos(center[1]/180.0*np.pi)*3600.0)\n",
    "    y=(dec-center[1])*3600.0\n",
    "    r=np.sqrt(x**2+y**2)\n",
    "    df['dist']=r\n",
    "\n",
    "cols=np.array(['B','V','R','I','Z'])\n",
    "center=np.array([181.55063,-8.8009665])\n",
    "colors=createFeatures(df,cols)\n",
    "\n",
    "addDistanceFromCenter(df,center)\n",
    "\n",
    "# some columns can be dropped:\n",
    "df.drop('RA',1,inplace=True)\n",
    "df.drop('Dec',1,inplace=True)\n",
    "df.drop('Reference',1,inplace=True)\n",
    "df.drop('X',1,inplace=True)\n",
    "df.drop('Y',1,inplace=True)\n",
    "df.drop(df.columns[8:18],1,inplace=True)\n"
   ]
  },
  {
   "cell_type": "markdown",
   "metadata": {},
   "source": [
    "We give a look at the data we have to work with."
   ]
  },
  {
   "cell_type": "code",
   "execution_count": 3,
   "metadata": {},
   "outputs": [
    {
     "data": {
      "text/html": [
       "<div>\n",
       "<table border=\"1\" class=\"dataframe\">\n",
       "  <thead>\n",
       "    <tr style=\"text-align: right;\">\n",
       "      <th></th>\n",
       "      <th>ra</th>\n",
       "      <th>dec</th>\n",
       "      <th>z</th>\n",
       "      <th>z QF</th>\n",
       "      <th>Kron R</th>\n",
       "      <th>id</th>\n",
       "      <th>area</th>\n",
       "      <th>Separation</th>\n",
       "      <th>BV</th>\n",
       "      <th>BR</th>\n",
       "      <th>BI</th>\n",
       "      <th>BZ</th>\n",
       "      <th>VR</th>\n",
       "      <th>VI</th>\n",
       "      <th>VZ</th>\n",
       "      <th>RI</th>\n",
       "      <th>RZ</th>\n",
       "      <th>IZ</th>\n",
       "      <th>dist</th>\n",
       "    </tr>\n",
       "  </thead>\n",
       "  <tbody>\n",
       "    <tr>\n",
       "      <th>count</th>\n",
       "      <td>2665.000000</td>\n",
       "      <td>2665.000000</td>\n",
       "      <td>2665.000000</td>\n",
       "      <td>2665.000000</td>\n",
       "      <td>2665.000000</td>\n",
       "      <td>2665.000000</td>\n",
       "      <td>2665.000000</td>\n",
       "      <td>2665.000000</td>\n",
       "      <td>2665.000000</td>\n",
       "      <td>2665.000000</td>\n",
       "      <td>2665.000000</td>\n",
       "      <td>2665.000000</td>\n",
       "      <td>2665.000000</td>\n",
       "      <td>2665.000000</td>\n",
       "      <td>2665.000000</td>\n",
       "      <td>2665.000000</td>\n",
       "      <td>2665.000000</td>\n",
       "      <td>2665.000000</td>\n",
       "      <td>2665.000000</td>\n",
       "    </tr>\n",
       "    <tr>\n",
       "      <th>mean</th>\n",
       "      <td>181.572053</td>\n",
       "      <td>-8.806062</td>\n",
       "      <td>0.496660</td>\n",
       "      <td>3.081426</td>\n",
       "      <td>22.250011</td>\n",
       "      <td>27580.377861</td>\n",
       "      <td>239.534334</td>\n",
       "      <td>0.034965</td>\n",
       "      <td>0.576999</td>\n",
       "      <td>1.142087</td>\n",
       "      <td>1.700248</td>\n",
       "      <td>1.794713</td>\n",
       "      <td>0.565089</td>\n",
       "      <td>1.123250</td>\n",
       "      <td>1.217714</td>\n",
       "      <td>0.558161</td>\n",
       "      <td>0.652626</td>\n",
       "      <td>0.094464</td>\n",
       "      <td>505.411312</td>\n",
       "    </tr>\n",
       "    <tr>\n",
       "      <th>std</th>\n",
       "      <td>0.121131</td>\n",
       "      <td>0.095611</td>\n",
       "      <td>0.340356</td>\n",
       "      <td>1.529653</td>\n",
       "      <td>1.195874</td>\n",
       "      <td>10849.661339</td>\n",
       "      <td>491.271864</td>\n",
       "      <td>0.041492</td>\n",
       "      <td>5.244630</td>\n",
       "      <td>4.717145</td>\n",
       "      <td>6.213617</td>\n",
       "      <td>4.753871</td>\n",
       "      <td>2.379163</td>\n",
       "      <td>4.694922</td>\n",
       "      <td>2.424105</td>\n",
       "      <td>4.042860</td>\n",
       "      <td>0.326553</td>\n",
       "      <td>4.034639</td>\n",
       "      <td>234.078185</td>\n",
       "    </tr>\n",
       "    <tr>\n",
       "      <th>min</th>\n",
       "      <td>181.271914</td>\n",
       "      <td>-9.002202</td>\n",
       "      <td>0.000000</td>\n",
       "      <td>2.000000</td>\n",
       "      <td>9.990000</td>\n",
       "      <td>6868.000000</td>\n",
       "      <td>9.000000</td>\n",
       "      <td>0.000540</td>\n",
       "      <td>-122.410700</td>\n",
       "      <td>-121.916200</td>\n",
       "      <td>-121.268500</td>\n",
       "      <td>-121.030300</td>\n",
       "      <td>-121.377900</td>\n",
       "      <td>-120.821700</td>\n",
       "      <td>-120.552200</td>\n",
       "      <td>-0.318100</td>\n",
       "      <td>-0.394800</td>\n",
       "      <td>-121.379500</td>\n",
       "      <td>0.181539</td>\n",
       "    </tr>\n",
       "    <tr>\n",
       "      <th>25%</th>\n",
       "      <td>181.483943</td>\n",
       "      <td>-8.882864</td>\n",
       "      <td>0.421400</td>\n",
       "      <td>2.000000</td>\n",
       "      <td>21.600000</td>\n",
       "      <td>19000.000000</td>\n",
       "      <td>88.000000</td>\n",
       "      <td>0.015402</td>\n",
       "      <td>0.457800</td>\n",
       "      <td>0.935000</td>\n",
       "      <td>1.194900</td>\n",
       "      <td>1.359400</td>\n",
       "      <td>0.410700</td>\n",
       "      <td>0.675400</td>\n",
       "      <td>0.851500</td>\n",
       "      <td>0.243100</td>\n",
       "      <td>0.403000</td>\n",
       "      <td>0.163200</td>\n",
       "      <td>333.439676</td>\n",
       "    </tr>\n",
       "    <tr>\n",
       "      <th>50%</th>\n",
       "      <td>181.572924</td>\n",
       "      <td>-8.806062</td>\n",
       "      <td>0.468700</td>\n",
       "      <td>3.000000</td>\n",
       "      <td>22.420000</td>\n",
       "      <td>27288.000000</td>\n",
       "      <td>145.000000</td>\n",
       "      <td>0.025048</td>\n",
       "      <td>0.650100</td>\n",
       "      <td>1.174100</td>\n",
       "      <td>1.549000</td>\n",
       "      <td>1.776900</td>\n",
       "      <td>0.612100</td>\n",
       "      <td>0.993600</td>\n",
       "      <td>1.199800</td>\n",
       "      <td>0.385500</td>\n",
       "      <td>0.612000</td>\n",
       "      <td>0.238800</td>\n",
       "      <td>512.723413</td>\n",
       "    </tr>\n",
       "    <tr>\n",
       "      <th>75%</th>\n",
       "      <td>181.668227</td>\n",
       "      <td>-8.736987</td>\n",
       "      <td>0.594700</td>\n",
       "      <td>3.000000</td>\n",
       "      <td>23.080000</td>\n",
       "      <td>34785.000000</td>\n",
       "      <td>249.000000</td>\n",
       "      <td>0.038736</td>\n",
       "      <td>0.979600</td>\n",
       "      <td>1.786200</td>\n",
       "      <td>2.332100</td>\n",
       "      <td>2.635900</td>\n",
       "      <td>0.810100</td>\n",
       "      <td>1.386600</td>\n",
       "      <td>1.678400</td>\n",
       "      <td>0.560700</td>\n",
       "      <td>0.844700</td>\n",
       "      <td>0.300700</td>\n",
       "      <td>676.164783</td>\n",
       "    </tr>\n",
       "    <tr>\n",
       "      <th>max</th>\n",
       "      <td>181.830928</td>\n",
       "      <td>-8.603561</td>\n",
       "      <td>3.982900</td>\n",
       "      <td>9.000000</td>\n",
       "      <td>25.400000</td>\n",
       "      <td>55639.000000</td>\n",
       "      <td>17275.000000</td>\n",
       "      <td>0.465199</td>\n",
       "      <td>122.468100</td>\n",
       "      <td>3.141300</td>\n",
       "      <td>122.960000</td>\n",
       "      <td>4.949800</td>\n",
       "      <td>1.297800</td>\n",
       "      <td>122.666700</td>\n",
       "      <td>3.440500</td>\n",
       "      <td>122.072700</td>\n",
       "      <td>2.481000</td>\n",
       "      <td>0.794100</td>\n",
       "      <td>1116.144988</td>\n",
       "    </tr>\n",
       "  </tbody>\n",
       "</table>\n",
       "</div>"
      ],
      "text/plain": [
       "                ra          dec            z         z QF       Kron R  \\\n",
       "count  2665.000000  2665.000000  2665.000000  2665.000000  2665.000000   \n",
       "mean    181.572053    -8.806062     0.496660     3.081426    22.250011   \n",
       "std       0.121131     0.095611     0.340356     1.529653     1.195874   \n",
       "min     181.271914    -9.002202     0.000000     2.000000     9.990000   \n",
       "25%     181.483943    -8.882864     0.421400     2.000000    21.600000   \n",
       "50%     181.572924    -8.806062     0.468700     3.000000    22.420000   \n",
       "75%     181.668227    -8.736987     0.594700     3.000000    23.080000   \n",
       "max     181.830928    -8.603561     3.982900     9.000000    25.400000   \n",
       "\n",
       "                 id          area   Separation           BV           BR  \\\n",
       "count   2665.000000   2665.000000  2665.000000  2665.000000  2665.000000   \n",
       "mean   27580.377861    239.534334     0.034965     0.576999     1.142087   \n",
       "std    10849.661339    491.271864     0.041492     5.244630     4.717145   \n",
       "min     6868.000000      9.000000     0.000540  -122.410700  -121.916200   \n",
       "25%    19000.000000     88.000000     0.015402     0.457800     0.935000   \n",
       "50%    27288.000000    145.000000     0.025048     0.650100     1.174100   \n",
       "75%    34785.000000    249.000000     0.038736     0.979600     1.786200   \n",
       "max    55639.000000  17275.000000     0.465199   122.468100     3.141300   \n",
       "\n",
       "                BI           BZ           VR           VI           VZ  \\\n",
       "count  2665.000000  2665.000000  2665.000000  2665.000000  2665.000000   \n",
       "mean      1.700248     1.794713     0.565089     1.123250     1.217714   \n",
       "std       6.213617     4.753871     2.379163     4.694922     2.424105   \n",
       "min    -121.268500  -121.030300  -121.377900  -120.821700  -120.552200   \n",
       "25%       1.194900     1.359400     0.410700     0.675400     0.851500   \n",
       "50%       1.549000     1.776900     0.612100     0.993600     1.199800   \n",
       "75%       2.332100     2.635900     0.810100     1.386600     1.678400   \n",
       "max     122.960000     4.949800     1.297800   122.666700     3.440500   \n",
       "\n",
       "                RI           RZ           IZ         dist  \n",
       "count  2665.000000  2665.000000  2665.000000  2665.000000  \n",
       "mean      0.558161     0.652626     0.094464   505.411312  \n",
       "std       4.042860     0.326553     4.034639   234.078185  \n",
       "min      -0.318100    -0.394800  -121.379500     0.181539  \n",
       "25%       0.243100     0.403000     0.163200   333.439676  \n",
       "50%       0.385500     0.612000     0.238800   512.723413  \n",
       "75%       0.560700     0.844700     0.300700   676.164783  \n",
       "max     122.072700     2.481000     0.794100  1116.144988  "
      ]
     },
     "execution_count": 3,
     "metadata": {},
     "output_type": "execute_result"
    }
   ],
   "source": [
    "df.describe()"
   ]
  },
  {
   "cell_type": "markdown",
   "metadata": {},
   "source": [
    "## Labeling the data\n",
    "\n",
    "We notice that the min and max values of some of the colors are extremely low or high with respect to the bulk of the values. Indeed, reasonable values of colors should be in the range $\\sim 0-5$. However, some sources seem to have a bad photometry (or are un-detected) in some bands. We decide to clean the catalog by excluding these galaxies from the analysis.\n",
    "\n",
    "We can now split the galaxies into three categories: foreground, cluster, and background sources. To do that we use the column \"z\", called redshift, which is another way to describe the distance. The cluster MACS1206 has a known redshift of $z=0.45$. We assume that the cluster galaxies have redshift $0.4<z<0.5$. Therefore, the foreground and the background galaxies meet the conditions $z<0.4$ and $z>0.5$ respectively.\n",
    "\n",
    "The plot below gives us a hint of how the three classes are separated in color space and in the distance-magnitude space.\n",
    "\n",
    "Although we are showing three classes here, we are actually interested in distinguishing the galaxies shown in red from those shown in green and blue. Thus, green and blue objects are actually belonging to the same class for the purpose of this experiment."
   ]
  },
  {
   "cell_type": "code",
   "execution_count": 9,
   "metadata": {
    "scrolled": false
   },
   "outputs": [
    {
     "name": "stdout",
     "output_type": "stream",
     "text": [
      "['BV' 'BR' 'BI' 'BZ' 'VR' 'VI' 'VZ' 'RI' 'RZ' 'IZ']\n"
     ]
    },
    {
     "data": {
      "text/plain": [
       "(18.5, 25)"
      ]
     },
     "execution_count": 9,
     "metadata": {},
     "output_type": "execute_result"
    },
    {
     "data": {
      "image/png": "[encoded data removed]",
      "text/plain": [
       "<matplotlib.figure.Figure at 0x1142c7e50>"
      ]
     },
     "metadata": {},
     "output_type": "display_data"
    }
   ],
   "source": [
    "import matplotlib.pyplot as plt\n",
    "%matplotlib inline\n",
    "print colors\n",
    "# getting rid of galaxies with anomalous colors\n",
    "df_sel=df.loc[df['Kron R']<30]\n",
    "for i in range(colors.size):\n",
    "    df_sel=df_sel.query(\"((\"+colors[i]+\")>-10) & ((\"+colors[i]+\")<10)\")\n",
    "    \n",
    "# Label the data\n",
    "foreground = df_sel.query(\"(z <= 0.4)\")\n",
    "cluster = df_sel.query(\"(z > 0.439-0.05) & (z<=0.439+0.05)\")\n",
    "background = df_sel.query(\"(z > 0.5)\")\n",
    "\n",
    "f, ax = plt.subplots(1,2,figsize=(18, 8))\n",
    "ax[0].set_aspect(\"equal\")\n",
    "#ax[1].set_aspect(\"equal\")\n",
    "\n",
    "# Draw density plots\n",
    "sns.kdeplot(foreground['RZ'], foreground['BV'],\n",
    "            cmap=\"Greens\", shade=True, shade_lowest=False,alpha=0.5,ax=ax[0])\n",
    "sns.kdeplot(cluster['RZ'], cluster['BV'],\n",
    "            cmap=\"Blues\", shade=True, shade_lowest=False,alpha=0.5,ax=ax[0])\n",
    "sns.kdeplot(background['RZ'], background['BV'],\n",
    "            cmap=\"Reds\", shade=True, shade_lowest=False,alpha=0.5,ax=ax[0])\n",
    "ax[0].set_xlim([-0.1,1.6])\n",
    "ax[0].set_ylim([-0.1,1.6])\n",
    "\n",
    "\n",
    "sns.kdeplot(foreground['dist'], foreground['Kron R'],\n",
    "            cmap=\"Greens\", shade=True, shade_lowest=False,alpha=0.5,ax=ax[1])\n",
    "sns.kdeplot(cluster['dist'], cluster['Kron R'],\n",
    "            cmap=\"Blues\", shade=True, shade_lowest=False,alpha=0.5,ax=ax[1])\n",
    "sns.kdeplot(background['dist'], background['Kron R'],\n",
    "            cmap=\"Reds\", shade=True, shade_lowest=False,alpha=0.5,ax=ax[1])\n",
    "ax[1].set_xlim([-100,1200])\n",
    "ax[1].set_ylim([18.5,25])"
   ]
  },
  {
   "cell_type": "markdown",
   "metadata": {},
   "source": [
    "While the separation between foreground and cluster members may be difficult, we may be able to separate these galaxies from the background sources. \n",
    "\n",
    "As said, the sample of background galaxies approximately equals the number of foreground and cluster galaxies."
   ]
  },
  {
   "cell_type": "code",
   "execution_count": 10,
   "metadata": {},
   "outputs": [
    {
     "name": "stdout",
     "output_type": "stream",
     "text": [
      "1263\n",
      "633\n",
      "756\n"
     ]
    }
   ],
   "source": [
    "print background.index.size\n",
    "print foreground.index.size\n",
    "print cluster.index.size"
   ]
  },
  {
   "cell_type": "markdown",
   "metadata": {},
   "source": [
    "## Training, testing, feature scaling\n",
    "\n",
    "I have used the data described above to train and validate few classifiers. Their performance is quantified in terms of accuracy and recall. I experimented with neural network models constructed with ```Keras``` as well as with other classifiers built with ```sklearn```.\n",
    "\n",
    "To begin, we split the sample into  training and  test sets. The test set amounts to 20% of the total sample. Because the features have significantly different numerical values, we scale and normalize them using the method ```scale``` from the ```sklearn.prepocessing``` module, which standardize the dataset (subtract the mean and divide by the std deviation)."
   ]
  },
  {
   "cell_type": "code",
   "execution_count": 12,
   "metadata": {},
   "outputs": [],
   "source": [
    "# create feature array\n",
    "X=np.zeros((df_sel.index.size,colors.size+2))\n",
    "for i in range(colors.size):\n",
    "    X[:,i]=df_sel[colors[i]]\n",
    "\n",
    "X[:,colors.size]=df_sel['dist']\n",
    "X[:,colors.size+1]=df_sel['Kron R']\n",
    "\n",
    "# standardize the dataset\n",
    "from sklearn import preprocessing\n",
    "X_scaled = preprocessing.scale(X)\n",
    "\n",
    "from sklearn.feature_selection import SelectFromModel\n",
    "\n",
    "\n",
    "# Here is the real labeling: 2 classes (unlensed: z<0.5) and lensed (z>0.5)\n",
    "\n",
    "df_sel['label'] = np.where(df_sel['z'] < 0.5, 0, 1)\n",
    "Y=df_sel['label'].values\n",
    "\n",
    "# Split the sample into training and test sets. Train with 80% of the entries\n",
    "from sklearn.model_selection import train_test_split\n",
    "X_train, X_test, Y_train, Y_test = train_test_split(X_scaled, Y, test_size=0.2, random_state=42)"
   ]
  },
  {
   "cell_type": "markdown",
   "metadata": {},
   "source": [
    "### Building a Sequential model withe Keras\n",
    "\n",
    "To begin we use ```keras``` to build a neural network to classify the galaxies into background and foreground/cluster galaxies. The model is trained and validated with the sets defined above. We use the ```adam``` algorithm to optimize the learning rate and the categorical cross-entropy as loss function. The optimization is controlled by an early-stopping monitor.\n",
    "\n",
    "The neural-network architecture consists of an input layer with 100 units, three hidden layers again with 100 units and an output layer with two units. The activation function of each node in the input and in hidden layers is the Rectified Linear Activation Function (relu) and the activation function for the output layer is the Softmax."
   ]
  },
  {
   "cell_type": "code",
   "execution_count": 16,
   "metadata": {},
   "outputs": [
    {
     "name": "stdout",
     "output_type": "stream",
     "text": [
      "Train on 1700 samples, validate on 425 samples\n",
      "Epoch 1/30\n",
      "1700/1700 [==============================] - 0s - loss: 0.4106 - acc: 0.8518 - val_loss: 0.2759 - val_acc: 0.9106\n",
      "Epoch 2/30\n",
      "1700/1700 [==============================] - 0s - loss: 0.2804 - acc: 0.9059 - val_loss: 0.2218 - val_acc: 0.9365\n",
      "Epoch 3/30\n",
      "1700/1700 [==============================] - 0s - loss: 0.2409 - acc: 0.9224 - val_loss: 0.2028 - val_acc: 0.9365\n",
      "Epoch 4/30\n",
      "1700/1700 [==============================] - 0s - loss: 0.2197 - acc: 0.9288 - val_loss: 0.1987 - val_acc: 0.9341\n",
      "Epoch 5/30\n",
      "1700/1700 [==============================] - 0s - loss: 0.2143 - acc: 0.9247 - val_loss: 0.1923 - val_acc: 0.9412\n",
      "Epoch 6/30\n",
      "1700/1700 [==============================] - 0s - loss: 0.2010 - acc: 0.9376 - val_loss: 0.1947 - val_acc: 0.9318\n",
      "Epoch 7/30\n",
      "1700/1700 [==============================] - 0s - loss: 0.1993 - acc: 0.9347 - val_loss: 0.1897 - val_acc: 0.9412\n",
      "Epoch 8/30\n",
      "1700/1700 [==============================] - 0s - loss: 0.1889 - acc: 0.9365 - val_loss: 0.2065 - val_acc: 0.9224\n",
      "Epoch 9/30\n",
      "1700/1700 [==============================] - 0s - loss: 0.1948 - acc: 0.9300 - val_loss: 0.2059 - val_acc: 0.9318\n",
      "Epoch 10/30\n",
      "1700/1700 [==============================] - 0s - loss: 0.1854 - acc: 0.9341 - val_loss: 0.1826 - val_acc: 0.9365\n",
      "Epoch 11/30\n",
      "1700/1700 [==============================] - 0s - loss: 0.1855 - acc: 0.9335 - val_loss: 0.1803 - val_acc: 0.9341\n",
      "Epoch 12/30\n",
      "1700/1700 [==============================] - 0s - loss: 0.1635 - acc: 0.9424 - val_loss: 0.2111 - val_acc: 0.9247\n",
      "Epoch 13/30\n",
      "1700/1700 [==============================] - 0s - loss: 0.1657 - acc: 0.9441 - val_loss: 0.1868 - val_acc: 0.9271\n",
      "Epoch 14/30\n",
      "1700/1700 [==============================] - 0s - loss: 0.1822 - acc: 0.9412 - val_loss: 0.1875 - val_acc: 0.9341\n",
      " 32/532 [>.............................] - ETA: 0s\n",
      "             precision    recall  f1-score   support\n",
      "\n",
      " Foreground       0.96      0.93      0.95       292\n",
      " Background       0.92      0.95      0.94       240\n",
      "\n",
      "avg / total       0.94      0.94      0.94       532\n",
      "\n"
     ]
    }
   ],
   "source": [
    "import keras\n",
    "from keras.models import Sequential\n",
    "from keras.layers import Dense, Dropout, Activation\n",
    "from keras.optimizers import SGD\n",
    "from keras.callbacks import EarlyStopping\n",
    "\n",
    "y_train = keras.utils.to_categorical(Y_train, num_classes=2)\n",
    "y_test = keras.utils.to_categorical(Y_test, num_classes=2)\n",
    "y_all=keras.utils.to_categorical(Y, num_classes=2)\n",
    "\n",
    "# Build a sequential model (linear stack of layers):\n",
    "model=Sequential()\n",
    "\n",
    "# Add layers: input layer (100 units), 3 hidden layers (100 units), 1 output layer (2 units). \n",
    "model.add(Dense(100,activation='relu',input_shape=(X_train.shape[1],)))\n",
    "model.add(Dense(100,activation='relu'))\n",
    "model.add(Dense(100,activation='relu'))\n",
    "model.add(Dense(100,activation='relu'))\n",
    "model.add(Dense(2,activation='softmax'))\n",
    "# compile and optimize the learning rate in the back-propagation process. Use the accuracy as metric\n",
    "# for the optimization. Use the adam algorithm as optimizer and categorical cross-entropy as loss function.\n",
    "model.compile(optimizer='adam',loss='categorical_crossentropy',metrics=['accuracy'])\n",
    "\n",
    "# Define early_stopping_monitor\n",
    "early_stopping_monitor = EarlyStopping(patience=2)\n",
    "\n",
    "# Fit and optimize the model. Use validation splits (20% of the data) to validate the model. Train until validation score improves.\n",
    "# When it doesn't improve for two epochs, early-stops!\n",
    "model_train=model.fit(X_train,y_train,epochs=30,validation_split=0.2,callbacks=[early_stopping_monitor])\n",
    "\n",
    "# Make predictions with the test set:\n",
    "pred=model.predict_classes(X_test)\n",
    "\n",
    "print ''\n",
    "from sklearn.metrics import classification_report\n",
    "target_names = ['Foreground', 'Background']\n",
    "#target_names = ['Cluster members', 'Background/Foreground']\n",
    "print(classification_report(Y_test, pred, target_names=target_names))"
   ]
  },
  {
   "cell_type": "markdown",
   "metadata": {},
   "source": [
    "The classifier seems to perform very well, reaching precision and recall of order $\\sim 94\\%$.\n",
    "\n",
    "Other architectures with different numbers of layers and nodes can been considered and evaluated on the validation set. The model capacity is been tweeked using the validation loss as reference metric."
   ]
  },
  {
   "cell_type": "code",
   "execution_count": 23,
   "metadata": {},
   "outputs": [
    {
     "name": "stdout",
     "output_type": "stream",
     "text": [
      "Train on 1700 samples, validate on 425 samples\n",
      "Epoch 1/30\n",
      "1700/1700 [==============================] - 0s - loss: 0.5277 - acc: 0.7971 - val_loss: 0.3749 - val_acc: 0.8847\n",
      "Epoch 2/30\n",
      "1700/1700 [==============================] - 0s - loss: 0.3301 - acc: 0.8882 - val_loss: 0.2901 - val_acc: 0.8988\n",
      "Epoch 3/30\n",
      "1700/1700 [==============================] - 0s - loss: 0.2809 - acc: 0.9094 - val_loss: 0.2562 - val_acc: 0.9200\n",
      "Epoch 4/30\n",
      "1700/1700 [==============================] - 0s - loss: 0.2590 - acc: 0.9153 - val_loss: 0.2369 - val_acc: 0.9294\n",
      "Epoch 5/30\n",
      "1700/1700 [==============================] - 0s - loss: 0.2376 - acc: 0.9247 - val_loss: 0.2176 - val_acc: 0.9341\n",
      "Epoch 6/30\n",
      "1700/1700 [==============================] - 0s - loss: 0.2204 - acc: 0.9271 - val_loss: 0.2083 - val_acc: 0.9388\n",
      "Epoch 7/30\n",
      "1700/1700 [==============================] - 0s - loss: 0.2121 - acc: 0.9288 - val_loss: 0.2066 - val_acc: 0.9365\n",
      "Epoch 8/30\n",
      "1700/1700 [==============================] - 0s - loss: 0.2123 - acc: 0.9282 - val_loss: 0.2053 - val_acc: 0.9271\n",
      "Epoch 9/30\n",
      "1700/1700 [==============================] - 0s - loss: 0.2182 - acc: 0.9212 - val_loss: 0.1943 - val_acc: 0.9459\n",
      "Epoch 10/30\n",
      "1700/1700 [==============================] - 0s - loss: 0.1986 - acc: 0.9353 - val_loss: 0.1855 - val_acc: 0.9459\n",
      "Epoch 11/30\n",
      "1700/1700 [==============================] - 0s - loss: 0.1911 - acc: 0.9406 - val_loss: 0.1845 - val_acc: 0.9529\n",
      "Epoch 12/30\n",
      "1700/1700 [==============================] - 0s - loss: 0.1868 - acc: 0.9382 - val_loss: 0.1759 - val_acc: 0.9459\n",
      "Epoch 13/30\n",
      "1700/1700 [==============================] - 0s - loss: 0.1878 - acc: 0.9371 - val_loss: 0.1926 - val_acc: 0.9459\n",
      "Epoch 14/30\n",
      "1700/1700 [==============================] - 0s - loss: 0.1803 - acc: 0.9400 - val_loss: 0.1790 - val_acc: 0.9459\n",
      "Epoch 15/30\n",
      "1700/1700 [==============================] - 0s - loss: 0.1780 - acc: 0.9424 - val_loss: 0.1889 - val_acc: 0.9412\n",
      "Train on 1700 samples, validate on 425 samples\n",
      "Epoch 1/30\n",
      "1700/1700 [==============================] - 0s - loss: 0.5750 - acc: 0.7565 - val_loss: 0.3797 - val_acc: 0.8800\n",
      "Epoch 2/30\n",
      "1700/1700 [==============================] - 0s - loss: 0.3291 - acc: 0.8847 - val_loss: 0.2817 - val_acc: 0.9153\n",
      "Epoch 3/30\n",
      "1700/1700 [==============================] - 0s - loss: 0.2656 - acc: 0.9100 - val_loss: 0.2402 - val_acc: 0.9271\n",
      "Epoch 4/30\n",
      "1700/1700 [==============================] - 0s - loss: 0.2345 - acc: 0.9253 - val_loss: 0.2084 - val_acc: 0.9412\n",
      "Epoch 5/30\n",
      "1700/1700 [==============================] - 0s - loss: 0.2206 - acc: 0.9300 - val_loss: 0.1936 - val_acc: 0.9459\n",
      "Epoch 6/30\n",
      "1700/1700 [==============================] - 0s - loss: 0.2062 - acc: 0.9294 - val_loss: 0.1884 - val_acc: 0.9459\n",
      "Epoch 7/30\n",
      "1700/1700 [==============================] - 0s - loss: 0.1988 - acc: 0.9294 - val_loss: 0.1917 - val_acc: 0.9412\n",
      "Epoch 8/30\n",
      "1700/1700 [==============================] - 0s - loss: 0.1978 - acc: 0.9341 - val_loss: 0.1827 - val_acc: 0.9412\n",
      "Epoch 9/30\n",
      "1700/1700 [==============================] - 0s - loss: 0.1888 - acc: 0.9376 - val_loss: 0.1929 - val_acc: 0.9294\n",
      "Epoch 10/30\n",
      "1700/1700 [==============================] - 0s - loss: 0.1836 - acc: 0.9353 - val_loss: 0.2002 - val_acc: 0.9271\n",
      "Epoch 11/30\n",
      "1700/1700 [==============================] - 0s - loss: 0.1802 - acc: 0.9388 - val_loss: 0.1855 - val_acc: 0.9318\n"
     ]
    },
    {
     "data": {
      "image/png": "[encoded data removed]",
      "text/plain": [
       "<matplotlib.figure.Figure at 0x12ad59910>"
      ]
     },
     "metadata": {},
     "output_type": "display_data"
    }
   ],
   "source": [
    "# Two alternative models: testing different numbers of units and of layers\n",
    "\n",
    "model_alt=Sequential()\n",
    "model_alt.add(Dense(50,activation='relu',input_shape=(X_train.shape[1],)))\n",
    "model_alt.add(Dense(50,activation='relu'))\n",
    "model_alt.add(Dense(50,activation='relu'))\n",
    "model_alt.add(Dense(2,activation='softmax'))\n",
    "model_alt.compile(optimizer='adam',loss='categorical_crossentropy',metrics=['accuracy'])\n",
    "\n",
    "model_alt1=Sequential()\n",
    "model_alt1.add(Dense(50,activation='relu',input_shape=(X_train.shape[1],)))\n",
    "model_alt1.add(Dense(50,activation='relu'))\n",
    "model_alt1.add(Dense(50,activation='relu'))\n",
    "model_alt1.add(Dense(50,activation='relu'))\n",
    "model_alt1.add(Dense(2,activation='softmax'))\n",
    "model_alt1.compile(optimizer='adam',loss='categorical_crossentropy',metrics=['accuracy'])\n",
    "\n",
    "# Define early_stopping_monitor\n",
    "early_stopping_monitor = EarlyStopping(patience=2)\n",
    "\n",
    "# Fit the model\n",
    "model_train_alt=model_alt.fit(X_train,y_train,epochs=30,validation_split=0.2,\n",
    "                                callbacks=[early_stopping_monitor])\n",
    "\n",
    "model_train_alt1=model_alt1.fit(X_train,y_train,epochs=30,validation_split=0.2,\n",
    "                                callbacks=[early_stopping_monitor])\n",
    "\n",
    "# Plot the validation loss\n",
    "plt.plot(model_train.history['val_loss'], 'r',model_train_alt.history['val_loss'], 'b',\n",
    "         model_train_alt1.history['val_loss'], 'g')\n",
    "plt.xlabel('Epochs')\n",
    "plt.ylabel('Validation score')\n",
    "plt.show()"
   ]
  },
  {
   "cell_type": "markdown",
   "metadata": {},
   "source": [
    "The original model \n",
    "\n",
    "\n",
    "## Other classifiers\n",
    "\n",
    "Using ```sklearn```, it is easy to implement other classifiers to compare to the multi-layer perceptron discussed above.\n",
    "\n",
    "### Naive bayes\n",
    "The first classifier we test here is the Gaussian Naive Bayes classifier. It uses the Bayes rule to compute the probability that one object belongs to a class assuming that the likelihood of the features is  Gaussian. The algorithm is used in many applications of text classification, but, in principle it should work here too."
   ]
  },
  {
   "cell_type": "code",
   "execution_count": 24,
   "metadata": {},
   "outputs": [
    {
     "name": "stdout",
     "output_type": "stream",
     "text": [
      "0.842105263158\n"
     ]
    }
   ],
   "source": [
    "from sklearn.naive_bayes import GaussianNB\n",
    "clf_nb=GaussianNB()\n",
    "clf_nb.fit(X_train,Y_train)\n",
    "\n",
    "pred=clf_nb.predict(X_test)\n",
    "\n",
    "from sklearn.metrics import accuracy_score\n",
    "\n",
    "acc=accuracy_score(pred,Y_test)\n",
    "print acc"
   ]
  },
  {
   "cell_type": "code",
   "execution_count": 25,
   "metadata": {},
   "outputs": [
    {
     "name": "stdout",
     "output_type": "stream",
     "text": [
      "                       precision    recall  f1-score   support\n",
      "\n",
      "      Cluster members       0.90      0.80      0.85       292\n",
      "Background/Foreground       0.79      0.89      0.84       240\n",
      "\n",
      "          avg / total       0.85      0.84      0.84       532\n",
      "\n"
     ]
    }
   ],
   "source": [
    "from sklearn.metrics import classification_report\n",
    "#target_names = ['Foreground', 'Background']\n",
    "target_names = ['Cluster members', 'Background/Foreground']\n",
    "print(classification_report(Y_test, pred, target_names=target_names))"
   ]
  },
  {
   "cell_type": "markdown",
   "metadata": {},
   "source": [
    "This classifier has a worse performance compared to the MLP. Precision and recall are $\\sim 85\\%$. The major limitation of this algorithm is given by the assumption of gaussianity of the features, which might not be good.\n",
    "\n",
    "### Support Vector Machine\n",
    "\n",
    "Another very popular algorithm for classification is the Support Vector Machine algorithm. In support vector machine we try to define the boundaries between classes by maximizing the distance of the data from the boundary themselves (margins). The algorithm can be used also in cases where the classes are not linearly separable. This is done by creating new features that are non-linear transformations of the features themselves. More generally  this operation can be done using the so-called \"kernel trick\". A kernel function is used to map the existing features into a larger feature space. There are several kind of kernels that one could use, including RBF, sigmoid, polynomial, etc. \n",
    "\n",
    "There are two parameters that define how the algorithm works. The first is called the \"C\" parameter. This parameter controls the trade-off between smooth decision boundaries and classifying training points correctly. The second is the \"$\\gamma$\" parameter, which defines how far the influence of a single training example reaches.\n",
    "\n",
    "In this analysis, we use a RBF kernel. We select the best parameters $C$ and $\\gamma$ by performing a grid search with cross validation."
   ]
  },
  {
   "cell_type": "code",
   "execution_count": 26,
   "metadata": {},
   "outputs": [
    {
     "name": "stdout",
     "output_type": "stream",
     "text": [
      "0.932705882353\n",
      "1.87381742286\n",
      "0.0432876128108\n",
      "0.93045112782\n"
     ]
    }
   ],
   "source": [
    "from sklearn import svm\n",
    "from sklearn.model_selection import GridSearchCV\n",
    "g=np.logspace(-3,3,12)\n",
    "c=np.logspace(-3,3,12)\n",
    "parameters = {'gamma':g,'C':c}\n",
    "svr = svm.SVC()\n",
    "clf = GridSearchCV(svr, parameters)\n",
    "clf.fit(X_train, Y_train)\n",
    "\n",
    "print clf.best_score_\n",
    "print  clf.best_estimator_.C\n",
    "print  clf.best_estimator_.gamma\n",
    "\n",
    "from sklearn import svm\n",
    "# build a support vector classifier\n",
    "clf_svc = svm.SVC(C=clf.best_estimator_.C,gamma=clf.best_estimator_.gamma,kernel='rbf') # gamma=1.0/2.0/sigma^2 \n",
    "clf_svc.fit(X_train,Y_train)\n",
    "pred=clf_svc.predict(X_test)\n",
    "\n",
    "from sklearn.metrics import accuracy_score\n",
    "\n",
    "acc=accuracy_score(pred,Y_test)\n",
    "print acc"
   ]
  },
  {
   "cell_type": "markdown",
   "metadata": {},
   "source": [
    "We can create a classification report:"
   ]
  },
  {
   "cell_type": "code",
   "execution_count": 27,
   "metadata": {},
   "outputs": [
    {
     "name": "stdout",
     "output_type": "stream",
     "text": [
      "             precision    recall  f1-score   support\n",
      "\n",
      " Foreground       0.94      0.93      0.94       292\n",
      " Background       0.91      0.93      0.92       240\n",
      "\n",
      "avg / total       0.93      0.93      0.93       532\n",
      "\n"
     ]
    }
   ],
   "source": [
    "from sklearn.metrics import classification_report\n",
    "target_names = ['Foreground', 'Background']\n",
    "#target_names = ['Cluster members', 'Background/Foreground']\n",
    "print(classification_report(Y_test, pred, target_names=target_names))"
   ]
  },
  {
   "cell_type": "markdown",
   "metadata": {},
   "source": [
    "This shows that the performance of the SVM classifier is nearly identical to that of the MLP."
   ]
  },
  {
   "cell_type": "markdown",
   "metadata": {},
   "source": [
    "### Random forest classifier\n",
    "\n",
    "Finally, we build and test a Random Forest Classifier. This classifier combines several decision trees to perform classification. Each tree is constructed from a bootstrapped sample of the training set. The predictive accuracy is improved by averaging the decisions. This also controls over-fitting. The classifier depends on several parameters. In this test we consider just the number of estimators (e.g. of decision trees), which will be combined. Again, we optimize the model by means of gridsearch with cross-validation."
   ]
  },
  {
   "cell_type": "code",
   "execution_count": 28,
   "metadata": {},
   "outputs": [
    {
     "name": "stdout",
     "output_type": "stream",
     "text": [
      "0.932705882353\n",
      "60\n",
      "0.936090225564\n"
     ]
    }
   ],
   "source": [
    "from sklearn.ensemble import RandomForestClassifier\n",
    "from sklearn.model_selection import GridSearchCV\n",
    "n=np.arange(1,100,1,dtype=int)\n",
    "\n",
    "parameters = {'n_estimators':n}\n",
    "clf_=RandomForestClassifier()\n",
    "clf = GridSearchCV(clf_, parameters)\n",
    "clf.fit(X_train, Y_train)\n",
    "\n",
    "print clf.best_score_\n",
    "print  clf.best_estimator_.n_estimators\n",
    "\n",
    "clf_rfc=RandomForestClassifier(n_estimators=clf.best_estimator_.n_estimators)\n",
    "clf_rfc.fit(X_train,Y_train)\n",
    "pred=clf_rfc.predict(X_test)\n",
    "acc=accuracy_score(pred,Y_test)\n",
    "print acc"
   ]
  },
  {
   "cell_type": "code",
   "execution_count": 14,
   "metadata": {},
   "outputs": [
    {
     "name": "stdout",
     "output_type": "stream",
     "text": [
      "             precision    recall  f1-score   support\n",
      "\n",
      " Foreground       0.94      0.93      0.94       292\n",
      " Background       0.92      0.93      0.93       240\n",
      "\n",
      "avg / total       0.93      0.93      0.93       532\n",
      "\n"
     ]
    }
   ],
   "source": [
    "print(classification_report(Y_test, pred, target_names=target_names))"
   ]
  },
  {
   "cell_type": "markdown",
   "metadata": {},
   "source": [
    "# Testing the feature importance\n",
    "\n",
    "This last part of the work is an attempt to identify the most informative features among those available. To do that we use the Recursive Feature Elimitation method with the random forest classifier."
   ]
  },
  {
   "cell_type": "code",
   "execution_count": 15,
   "metadata": {},
   "outputs": [
    {
     "name": "stdout",
     "output_type": "stream",
     "text": [
      "[ True False False False False  True False False False False False False]\n",
      "[ 1  4  9  7  3  1  5  2  6  8 11 10]\n",
      "0.890977443609\n",
      "[ True False False False False  True False  True False False False False]\n",
      "[ 1  2  5  8  3  1  6  1  4  7 10  9]\n",
      "0.915413533835\n",
      "[ True  True False False False  True False  True False False False False]\n",
      "[1 1 3 7 2 1 5 1 4 6 9 8]\n",
      "0.919172932331\n",
      "[ True  True False False False  True  True False  True False False False]\n",
      "[1 1 3 6 2 1 1 4 1 5 8 7]\n",
      "0.928571428571\n",
      "[ True  True False False  True  True False  True  True False False False]\n",
      "[1 1 4 5 1 1 3 1 1 2 7 6]\n",
      "0.934210526316\n",
      "[ True  True  True False  True  True False  True  True False False False]\n",
      "[1 1 1 3 1 1 2 1 1 5 6 4]\n",
      "0.928571428571\n",
      "[ True  True False False  True  True  True  True  True  True False False]\n",
      "[1 1 3 2 1 1 1 1 1 1 5 4]\n",
      "0.934210526316\n",
      "[ True  True  True False  True  True  True  True  True  True False False]\n",
      "[1 1 1 2 1 1 1 1 1 1 4 3]\n",
      "0.928571428571\n",
      "[ True  True  True  True  True  True  True  True  True  True False False]\n",
      "[1 1 1 1 1 1 1 1 1 1 2 3]\n",
      "0.936090225564\n",
      "[ True  True  True  True  True  True  True  True  True  True False  True]\n",
      "[1 1 1 1 1 1 1 1 1 1 2 1]\n",
      "0.936090225564\n",
      "[array(['BV', 'BR', 'BI', 'BZ', 'VR', 'VI', 'VZ', 'RI', 'RZ', 'IZ'], \n",
      "      dtype='|S2'), 'dist', 'mag']\n"
     ]
    }
   ],
   "source": [
    "my_features=[colors[0:colors.size],'dist','mag']\n",
    "from sklearn.feature_selection import RFE\n",
    "\n",
    "\n",
    "for n_feat in range(2,X.shape[1]):\n",
    "    rfe = RFE(clf_rfc, n_feat)\n",
    "    rfe = rfe.fit(X_train, Y_train)\n",
    "    print(rfe.support_)\n",
    "    print(rfe.ranking_)\n",
    "    pred=rfe.predict(X_test)\n",
    "    acc=accuracy_score(pred,Y_test)\n",
    "    print acc\n",
    "print my_features"
   ]
  },
  {
   "cell_type": "markdown",
   "metadata": {},
   "source": [
    "It looks like that most of the information is contained in the colors, rather than into the distance or the observed luminosity. The reason is that \n",
    "\n",
    "* the distance may be useful to separate the cluster members from the foreground and the background galaxies. However, when the foreground and the cluster galaxies are mixed together, the feature becomes uninformative;\n",
    "* the observed brightness is also not very helpful to separate the foreground and the background galaxies because both classes contain many faint galaxies."
   ]
  },
  {
   "cell_type": "markdown",
   "metadata": {
    "collapsed": true
   },
   "source": [
    "# Next steps\n",
    "\n",
    "We may seek further improvements by either adding the size of the galaxies as a further constraint or the entire image of the each galaxy. In fact, morphological informations such as size, star forming regions, structure of the spiral arms etc. may contain information to separate the background from the foreground galaxies.\n",
    "\n",
    "It may be possible that separating the cluster members from the background and foreground galaxies  results in an easier separation successive separation of background and foreground objects. "
   ]
  },
  {
   "cell_type": "code",
   "execution_count": null,
   "metadata": {
    "collapsed": true
   },
   "outputs": [],
   "source": []
  }
 ],
 "metadata": {
  "kernelspec": {
   "display_name": "Python 2",
   "language": "python",
   "name": "python2"
  },
  "language_info": {
   "codemirror_mode": {
    "name": "ipython",
    "version": 2
   },
   "file_extension": ".py",
   "mimetype": "text/x-python",
   "name": "python",
   "nbconvert_exporter": "python",
   "pygments_lexer": "ipython2",
   "version": "2.7.13"
  }
 },
 "nbformat": 4,
 "nbformat_minor": 1
}
